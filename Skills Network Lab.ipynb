{
    "cells": [
        {
            "metadata": {
                "collapsed": true
            },
            "cell_type": "markdown",
            "source": "# My Jupyter Notebook on IBM Watson Studio"
        },
        {
            "metadata": {},
            "cell_type": "markdown",
            "source": "### Ameya Dike"
        },
        {
            "metadata": {},
            "cell_type": "markdown",
            "source": "###### Data Enthusiast"
        },
        {
            "metadata": {},
            "cell_type": "markdown",
            "source": "*I am interested in Data Science because I want to bring data to the heart of my current team.*"
        },
        {
            "metadata": {},
            "cell_type": "markdown",
            "source": "### This is a function to check prime number"
        },
        {
            "metadata": {},
            "cell_type": "code",
            "source": "def is_prime(num):\n    for n in range(2,num):\n        if num % n == 0:\n            print(num,'is not a prime number')\n            break\n    else: # If never mod zero, then prime\n        print(num,'is a prime number!')\n        \nis_prime(17)",
            "execution_count": 1,
            "outputs": [
                {
                    "output_type": "stream",
                    "text": "17 is a prime number!\n",
                    "name": "stdout"
                }
            ]
        },
        {
            "metadata": {},
            "cell_type": "markdown",
            "source": "Horizontal Rule\n_____________________\n\n\n+ First\n+ Second\n+ Third\n\n\n1. Fisrt\n2. Second\n3. Third\n\n\n| L1 | L2 |\n| -- | -- |\n|100 | 200|\n\n\n\n```python\ns = \"Python syntax highlighting\"\nprint s\n```"
        },
        {
            "metadata": {},
            "cell_type": "code",
            "source": "",
            "execution_count": null,
            "outputs": []
        }
    ],
    "metadata": {
        "kernelspec": {
            "name": "python3",
            "display_name": "Python 3.9",
            "language": "python"
        },
        "language_info": {
            "name": "python",
            "version": "3.9.12",
            "mimetype": "text/x-python",
            "codemirror_mode": {
                "name": "ipython",
                "version": 3
            },
            "pygments_lexer": "ipython3",
            "nbconvert_exporter": "python",
            "file_extension": ".py"
        }
    },
    "nbformat": 4,
    "nbformat_minor": 1
}